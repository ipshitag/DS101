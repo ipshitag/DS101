{
 "cells": [
  {
   "cell_type": "markdown",
   "metadata": {},
   "source": [
    "# Python Basic Programming Assignment 2"
   ]
  },
  {
   "cell_type": "markdown",
   "metadata": {},
   "source": [
    "## Q1 Write a Python program to convert kilometers to miles?"
   ]
  },
  {
   "cell_type": "code",
   "execution_count": 2,
   "metadata": {},
   "outputs": [
    {
     "name": "stdout",
     "output_type": "stream",
     "text": [
      "Enter kilometers: 235.98\n",
      "\n",
      "235.98 km is 379.7729984874258 miles\n"
     ]
    }
   ],
   "source": [
    "def kiloToMile(kilo):\n",
    "    \"\"\"Takes value as kilometers, and returns in miles\n",
    "    :param kilo(numeric): The value in kilometers to be changed to miles\n",
    "    :return miles(numeric): Value returned in miles\"\"\"\n",
    "    \n",
    "    #returning in miles\n",
    "    return (1/(0.62137119)*kilo)\n",
    "\n",
    "#taking input\n",
    "km = float(input(\"Enter kilometers: \"))\n",
    "\n",
    "#calling function\n",
    "mi = kiloToMile(km)\n",
    "\n",
    "#printing values\n",
    "print(\"\\n{} km is {} miles\".format(km,mi))"
   ]
  },
  {
   "cell_type": "markdown",
   "metadata": {},
   "source": [
    "## Q2 Write a Python program to convert Celsius to Fahrenheit?"
   ]
  },
  {
   "cell_type": "code",
   "execution_count": 3,
   "metadata": {},
   "outputs": [
    {
     "name": "stdout",
     "output_type": "stream",
     "text": [
      "Enter temperature (C): 40\n",
      "\n",
      "40.0 C | 104.0 F\n"
     ]
    }
   ],
   "source": [
    "def cTof(celsius):\n",
    "    \"\"\"Input variables as Celsius and returns in Fahrenheit\n",
    "    :param celsius(numeric): Temperature in celsius\n",
    "    :return fahrenheit(numeric): Temperature in Fahrenheit\"\"\"\n",
    "    \n",
    "    #converting\n",
    "    fahrenheit = celsius*1.80 + 32.0\n",
    "    \n",
    "    #return value\n",
    "    return(fahrenheit)\n",
    "\n",
    "#take value\n",
    "c = float(input(\"Enter temperature (C): \"))\n",
    "\n",
    "#calling function\n",
    "f = cTof(c)\n",
    "\n",
    "#printing values\n",
    "print(\"\\n{} C | {} F\".format(c,f))"
   ]
  },
  {
   "cell_type": "markdown",
   "metadata": {},
   "source": [
    "## Q3 Write a Python program to display calendar?"
   ]
  },
  {
   "cell_type": "code",
   "execution_count": 5,
   "metadata": {},
   "outputs": [
    {
     "name": "stdout",
     "output_type": "stream",
     "text": [
      "Enter Year: 4058\n",
      "Calender For the Year 4058\n",
      "                                  4058\n",
      "\n",
      "      January                   February                   March\n",
      "Mo Tu We Th Fr Sa Su      Mo Tu We Th Fr Sa Su      Mo Tu We Th Fr Sa Su\n",
      "    1  2  3  4  5  6                   1  2  3                   1  2  3\n",
      " 7  8  9 10 11 12 13       4  5  6  7  8  9 10       4  5  6  7  8  9 10\n",
      "14 15 16 17 18 19 20      11 12 13 14 15 16 17      11 12 13 14 15 16 17\n",
      "21 22 23 24 25 26 27      18 19 20 21 22 23 24      18 19 20 21 22 23 24\n",
      "28 29 30 31               25 26 27 28               25 26 27 28 29 30 31\n",
      "\n",
      "       April                      May                       June\n",
      "Mo Tu We Th Fr Sa Su      Mo Tu We Th Fr Sa Su      Mo Tu We Th Fr Sa Su\n",
      " 1  2  3  4  5  6  7             1  2  3  4  5                      1  2\n",
      " 8  9 10 11 12 13 14       6  7  8  9 10 11 12       3  4  5  6  7  8  9\n",
      "15 16 17 18 19 20 21      13 14 15 16 17 18 19      10 11 12 13 14 15 16\n",
      "22 23 24 25 26 27 28      20 21 22 23 24 25 26      17 18 19 20 21 22 23\n",
      "29 30                     27 28 29 30 31            24 25 26 27 28 29 30\n",
      "\n",
      "        July                     August                  September\n",
      "Mo Tu We Th Fr Sa Su      Mo Tu We Th Fr Sa Su      Mo Tu We Th Fr Sa Su\n",
      " 1  2  3  4  5  6  7                1  2  3  4                         1\n",
      " 8  9 10 11 12 13 14       5  6  7  8  9 10 11       2  3  4  5  6  7  8\n",
      "15 16 17 18 19 20 21      12 13 14 15 16 17 18       9 10 11 12 13 14 15\n",
      "22 23 24 25 26 27 28      19 20 21 22 23 24 25      16 17 18 19 20 21 22\n",
      "29 30 31                  26 27 28 29 30 31         23 24 25 26 27 28 29\n",
      "                                                    30\n",
      "\n",
      "      October                   November                  December\n",
      "Mo Tu We Th Fr Sa Su      Mo Tu We Th Fr Sa Su      Mo Tu We Th Fr Sa Su\n",
      "    1  2  3  4  5  6                   1  2  3                         1\n",
      " 7  8  9 10 11 12 13       4  5  6  7  8  9 10       2  3  4  5  6  7  8\n",
      "14 15 16 17 18 19 20      11 12 13 14 15 16 17       9 10 11 12 13 14 15\n",
      "21 22 23 24 25 26 27      18 19 20 21 22 23 24      16 17 18 19 20 21 22\n",
      "28 29 30 31               25 26 27 28 29 30         23 24 25 26 27 28 29\n",
      "                                                    30 31\n",
      "\n"
     ]
    }
   ],
   "source": [
    "#importing library that prints calendars\n",
    "import calendar\n",
    "\n",
    "#taking year\n",
    "year = int(input(\"Enter Year: \"))\n",
    "\n",
    "#printing calendar\n",
    "print(\"Calender For the Year {}\".format(year))\n",
    "print(calendar.calendar(year))"
   ]
  },
  {
   "cell_type": "markdown",
   "metadata": {},
   "source": [
    "## Q4 Write a Python program to solve quadratic equation?"
   ]
  },
  {
   "cell_type": "code",
   "execution_count": 10,
   "metadata": {},
   "outputs": [
    {
     "name": "stdout",
     "output_type": "stream",
     "text": [
      "Enter the coefficient of x^2: 5\n",
      "Enter the coefficient of x: 23\n",
      "Enter the constant term: 3\n",
      "\n",
      "First root: -3.358980430730716 | Second root: -111.64101956926928\n"
     ]
    }
   ],
   "source": [
    "#importing librariest for mathematical functions\n",
    "from math import sqrt\n",
    "\n",
    "def quad_solution(a,b,c):\n",
    "    \"\"\"Inputa coefficient of x^2, x and constant and returns the solution of roots x1 and x2\n",
    "    :param a(int): Coeffecient of x^2\n",
    "    :param b(int): Coefficient of x\n",
    "    :param c(int): Constant term\n",
    "    :return x1: Solution of first root \n",
    "    :return x2: Solution of second root\"\"\"\n",
    "    x1 = (-b + sqrt((b**2) -4*a*c))/ 2*a\n",
    "    x2 = (-b - sqrt((b**2) -4*a*c))/ 2*a\n",
    "    return x1,x2\n",
    "\n",
    "#input values\n",
    "a = int(input(\"Enter the coefficient of x^2: \"))\n",
    "b = int(input(\"Enter the coefficient of x: \"))\n",
    "c = int(input(\"Enter the constant term: \"))\n",
    "\n",
    "#calling functions\n",
    "x1,x2 = quad_solution(a,b,c)\n",
    "\n",
    "#print values\n",
    "print(\"\\nFirst root: {} | Second root: {}\".format(x1,x2))"
   ]
  },
  {
   "cell_type": "markdown",
   "metadata": {},
   "source": [
    "## Q5 Write a Python program to swap two variables without temp variable?"
   ]
  },
  {
   "cell_type": "code",
   "execution_count": 11,
   "metadata": {},
   "outputs": [
    {
     "name": "stdout",
     "output_type": "stream",
     "text": [
      "Enter value of a: 420\n",
      "Enter value of b: 54\n",
      "\n",
      " Value of a: 420 | Value of b: 54\n",
      "\n",
      " Value of a: 54 | Value of b: 420\n"
     ]
    }
   ],
   "source": [
    "#get values\n",
    "a = int(input(\"Enter value of a: \"))\n",
    "b = int(input(\"Enter value of b: \"))\n",
    "\n",
    "#print existing values\n",
    "print(\"\\n Value of a: {} | Value of b: {}\".format(a,b))\n",
    "\n",
    "#swapping\n",
    "a,b = b,a\n",
    "\n",
    "#print values after swapping\n",
    "print(\"\\n Value of a: {} | Value of b: {}\".format(a,b))"
   ]
  }
 ],
 "metadata": {
  "kernelspec": {
   "display_name": "Python 3",
   "language": "python",
   "name": "python3"
  },
  "language_info": {
   "codemirror_mode": {
    "name": "ipython",
    "version": 3
   },
   "file_extension": ".py",
   "mimetype": "text/x-python",
   "name": "python",
   "nbconvert_exporter": "python",
   "pygments_lexer": "ipython3",
   "version": "3.7.3"
  }
 },
 "nbformat": 4,
 "nbformat_minor": 2
}
