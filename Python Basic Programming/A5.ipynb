{
 "cells": [
  {
   "cell_type": "markdown",
   "metadata": {},
   "source": [
    "# Python Basic Programming Assignment 5"
   ]
  },
  {
   "cell_type": "markdown",
   "metadata": {},
   "source": [
    "## Q1 Write a Python Program to Find LCM?"
   ]
  },
  {
   "cell_type": "code",
   "execution_count": 5,
   "metadata": {},
   "outputs": [
    {
     "name": "stdout",
     "output_type": "stream",
     "text": [
      "Enter first number: 10\n",
      "Enter second number: 46\n",
      "\n",
      "LCM of 10 and 46 is 230\n"
     ]
    }
   ],
   "source": [
    "def find_lcm(n1,n2):\n",
    "    \"\"\"Take two numbers and returns the lowest common multiple(lcm) of the numbers\n",
    "    :param n1(int): 1st number\n",
    "    :param n2(int): 2nd number\n",
    "    :return lcm(int): lcm of 1st and 2nd number\"\"\"\n",
    "    \n",
    "    if n1>n2:\n",
    "        lcm = n1\n",
    "    else:\n",
    "        lcm = n2\n",
    "    \n",
    "    while True:\n",
    "        if lcm%n1==0 and lcm%n2==0:\n",
    "            break\n",
    "        else:\n",
    "    \n",
    "#take number from user\n",
    "a = int(input(\"Enter first number: \"))\n",
    "b = int(input(\"Enter second number: \"))\n",
    "\n",
    "#calling function\n",
    "l = find_lcm(a,b)\n",
    "\n",
    "#printing\n",
    "print(\"\\nLCM of {} and {} is {}\".format(a,b,l))"
   ]
  },
  {
   "cell_type": "markdown",
   "metadata": {},
   "source": [
    "## Q2 Write a Python Program to Find HCF?"
   ]
  },
  {
   "cell_type": "code",
   "execution_count": 6,
   "metadata": {},
   "outputs": [
    {
     "name": "stdout",
     "output_type": "stream",
     "text": [
      "Enter first number: 34\n",
      "Enter second number: 12\n",
      "\n",
      "HCF of 34 and 12 is 2\n"
     ]
    }
   ],
   "source": [
    "def find_hcf(n1,n2):\n",
    "    \"\"\"Take two numbers and returns the highest common factor(hcf) of the numbers\n",
    "    :param n1(int): 1st number\n",
    "    :param n2(int): 2nd number\n",
    "    :return lcm(int): hcf of 1st and 2nd number\"\"\"\n",
    "    \n",
    "    if n1>n2:\n",
    "        hcf = n1\n",
    "    else:\n",
    "        hcf = n2\n",
    "        \n",
    "    while True:\n",
    "        if n1%hcf==0 and n2%hcf==0:\n",
    "            break\n",
    "        else:\n",
    "            hcf = hcf - 1\n",
    "\n",
    "    return hcf\n",
    "\n",
    "#take number from user\n",
    "a = int(input(\"Enter first number: \"))\n",
    "b = int(input(\"Enter second number: \"))\n",
    "\n",
    "#calling function\n",
    "h = find_hcf(a,b)\n",
    "\n",
    "#printing\n",
    "print(\"\\nHCF of {} and {} is {}\".format(a,b,h))"
   ]
  },
  {
   "cell_type": "markdown",
   "metadata": {},
   "source": [
    "## Q3 Write a Python Program to Convert Decimal to Binary, Octal and Hexadecimal?"
   ]
  },
  {
   "cell_type": "code",
   "execution_count": 8,
   "metadata": {},
   "outputs": [
    {
     "name": "stdout",
     "output_type": "stream",
     "text": [
      "Enter decimal: 9\n",
      "\n",
      "The decimal value of 9 is:\n",
      "0b1001 in binary.\n",
      "0o11 in octal.\n",
      "0x9 in hexadecimal.\n"
     ]
    }
   ],
   "source": [
    "def decToOthers(n):\n",
    "    \"\"\"Accepts a number, and prints its binary, Octal and Hexadecimal equivalent\n",
    "    :param n(int): number whose equivalent is to be found\n",
    "    :return: \"\"\"\n",
    "    \n",
    "    #print equivalent\n",
    "    print(\"\\nThe decimal value of\", n, \"is:\")\n",
    "    print(bin(n), \"in binary.\") #for binary\n",
    "    print(oct(n), \"in octal.\") #for octal\n",
    "    print(hex(n), \"in hexadecimal.\") #for hexadecimal\n",
    "    \n",
    "#take numbers from user\n",
    "a = int(input(\"Enter decimal: \"))\n",
    "\n",
    "#calling function\n",
    "decToOthers(a)"
   ]
  },
  {
   "cell_type": "markdown",
   "metadata": {},
   "source": [
    "## Q4 Write a Python Program To Find ASCII value of a character?"
   ]
  },
  {
   "cell_type": "code",
   "execution_count": 9,
   "metadata": {},
   "outputs": [
    {
     "name": "stdout",
     "output_type": "stream",
     "text": [
      "Enter character: a\n",
      "\n",
      "a's ASCII code is 97\n"
     ]
    }
   ],
   "source": [
    "#to print the ascii of a character we can use ord\n",
    "\n",
    "c = input(\"Enter character: \")\n",
    "\n",
    "print(\"\\n{}\\'s ASCII code is {}\".format(c,ord(c)))"
   ]
  },
  {
   "cell_type": "markdown",
   "metadata": {},
   "source": [
    "## Q5 Write a Python Program to Make a Simple Calculator with 4 basic mathematical operations?"
   ]
  },
  {
   "cell_type": "code",
   "execution_count": 11,
   "metadata": {},
   "outputs": [
    {
     "name": "stdout",
     "output_type": "stream",
     "text": [
      "Enter first number: 23\n",
      "Enter second number: 49\n",
      "\n",
      "Press + for addition \n",
      "Press - for subtraction \n",
      "Press * for multiplication \n",
      "Press \\ for dividing\n",
      "*\n",
      "\n",
      "\n",
      " The result of 23 * 49 is: 1127\n"
     ]
    }
   ],
   "source": [
    "def calculator(operator,x,y):\n",
    "    \"\"\"Simulates a simple calculator\n",
    "    :param operator(char): the mathematical operation to be executed\n",
    "    :param n1(int): 1st number\n",
    "    :param n2(int): 2nd number\n",
    "    :return result(numeric): calculated result\"\"\"\n",
    "    \n",
    "    #using dicts and lambda as switch case\n",
    "    return {\n",
    "        '+': lambda: x + y,\n",
    "        '-': lambda: x - y,\n",
    "        '*': lambda: x * y,\n",
    "        '/': lambda: x / y,\n",
    "    }.get(operator, lambda: None)()\n",
    "\n",
    "#input number and operator from user\n",
    "a = int(input(\"Enter first number: \"))\n",
    "b = int(input(\"Enter second number: \"))\n",
    "\n",
    "#take operator\n",
    "o = input(\"\\nPress + for addition \\nPress - for subtraction \\nPress * for multiplication \\nPress \\ for dividing\\n\")\n",
    "\n",
    "#calling function\n",
    "res = calculator(o,a,b)\n",
    "\n",
    "#print\n",
    "print(\"\\n\\n The result of {} {} {} is: {}\".format(a,o,b,res))"
   ]
  }
 ],
 "metadata": {
  "kernelspec": {
   "display_name": "Python 3",
   "language": "python",
   "name": "python3"
  },
  "language_info": {
   "codemirror_mode": {
    "name": "ipython",
    "version": 3
   },
   "file_extension": ".py",
   "mimetype": "text/x-python",
   "name": "python",
   "nbconvert_exporter": "python",
   "pygments_lexer": "ipython3",
   "version": "3.7.3"
  }
 },
 "nbformat": 4,
 "nbformat_minor": 2
}
