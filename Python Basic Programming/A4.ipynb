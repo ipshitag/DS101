{
 "cells": [
  {
   "cell_type": "markdown",
   "metadata": {},
   "source": [
    "# Python Basic Programming Assignment 4"
   ]
  },
  {
   "cell_type": "markdown",
   "metadata": {},
   "source": [
    "## Write a Python Program to Find the Factorial of a Number?"
   ]
  },
  {
   "cell_type": "code",
   "execution_count": 6,
   "metadata": {},
   "outputs": [
    {
     "name": "stdout",
     "output_type": "stream",
     "text": [
      "Enter Number: 30\n",
      "\n",
      "Factorial of 30 is 265252859812191058636308480000000\n"
     ]
    }
   ],
   "source": [
    "def find_factorial(number):\n",
    "    \"\"\"Returns factorial of number, i.e. for number n, returns n*(n-1)*(n-2)*...*3*2*1\n",
    "    :param number (int): number whose factorial is to be given\n",
    "    :return factorial(int): factorial of number\"\"\"\n",
    "    \n",
    "    #initialize factorial with 1\n",
    "    factorial = 1\n",
    "    \n",
    "    #looping from number to 1\n",
    "    for i in range(number,0,-1):\n",
    "        factorial = factorial*i\n",
    "    \n",
    "    #return factorial\n",
    "    return factorial\n",
    "\n",
    "#input number from user\n",
    "n = int(input(\"Enter Number: \"))\n",
    "\n",
    "#calling function\n",
    "f = find_factorial(n)\n",
    "\n",
    "#print\n",
    "print(\"\\nFactorial of {} is {}\".format(n,f))"
   ]
  },
  {
   "cell_type": "markdown",
   "metadata": {},
   "source": [
    "## Q2 Write a Python Program to Display the multiplication Table?"
   ]
  },
  {
   "cell_type": "code",
   "execution_count": 8,
   "metadata": {},
   "outputs": [
    {
     "name": "stdout",
     "output_type": "stream",
     "text": [
      "Enter number whose table is to be printed: 13\n",
      "\n",
      "Enter limit of table: 12\n",
      "\n",
      "*********************************************************\n",
      "\n",
      " 13 X 1 = 13\n",
      "\n",
      " 13 X 2 = 26\n",
      "\n",
      " 13 X 3 = 39\n",
      "\n",
      " 13 X 4 = 52\n",
      "\n",
      " 13 X 5 = 65\n",
      "\n",
      " 13 X 6 = 78\n",
      "\n",
      " 13 X 7 = 91\n",
      "\n",
      " 13 X 8 = 104\n",
      "\n",
      " 13 X 9 = 117\n",
      "\n",
      " 13 X 10 = 130\n",
      "\n",
      " 13 X 11 = 143\n",
      "\n",
      " 13 X 12 = 156\n",
      "\n",
      "*********************************************************\n"
     ]
    }
   ],
   "source": [
    "def print_multiplication_table(number, limit):\n",
    "    \"\"\"Printing multiplication table of given 'number' till given 'limit' \n",
    "    :param number(int): number whose table is to be print\n",
    "    :param limit(int): limit to which multiplication table is to be print\n",
    "    :return: \"\"\"\n",
    "    \n",
    "    print(\"\\n*********************************************************\")\n",
    "    \n",
    "    for i in range(1,limit+1):\n",
    "        result = number * i\n",
    "        \n",
    "        #printing\n",
    "        print(\"\\n {} X {} = {}\".format(number,i,result))\n",
    "        \n",
    "    print(\"\\n*********************************************************\")\n",
    "    \n",
    "    \n",
    "#input number from user\n",
    "n = int(input(\"Enter number whose table is to be printed: \"))\n",
    "l = int(input(\"\\nEnter limit of table: \"))\n",
    "\n",
    "#calling function\n",
    "print_multiplication_table(n,l)"
   ]
  },
  {
   "cell_type": "markdown",
   "metadata": {},
   "source": [
    "## Q3 Write a Python Program to Print the Fibonacci sequence?"
   ]
  },
  {
   "cell_type": "code",
   "execution_count": 16,
   "metadata": {},
   "outputs": [
    {
     "name": "stdout",
     "output_type": "stream",
     "text": [
      "Enter Limit: 20\n",
      "\n",
      " The series: \n",
      "\n",
      "0 1 1 2 3 5 8 13 21 34 55 89 144 233 377 610 987 1597 2584 4181 "
     ]
    }
   ],
   "source": [
    "def fibonacci(limit):\n",
    "    \"\"\"Print Fibonacci series till given limit\n",
    "    :param limit(int): limit to which series is to be printed\n",
    "    :return: \"\"\"\n",
    "    \n",
    "    #initiliaze variables\n",
    "    a = 0\n",
    "    b = 1\n",
    "    \n",
    "    #print first two terms\n",
    "    print(a,b,end=\" \")\n",
    "    \n",
    "    for i in range(2,limit):\n",
    "        next=a+b                           \n",
    "        print(next,end=\" \")\n",
    "        a=b\n",
    "        b=next\n",
    "        \n",
    "#input limit from user\n",
    "l = int(input(\"Enter Limit: \"))\n",
    "print(\"\\n The series: \\n\")\n",
    "\n",
    "fibonacci(l)"
   ]
  },
  {
   "cell_type": "markdown",
   "metadata": {},
   "source": [
    "## Q4 Write a Python Program to Check Armstrong Number?"
   ]
  },
  {
   "cell_type": "code",
   "execution_count": 24,
   "metadata": {},
   "outputs": [],
   "source": [
    "def check_Armstrong(number):\n",
    "    \"\"\"Checks whether the number and its reverse is same or else\n",
    "    :param number(int): Number to be checked\n",
    "    :return armstrong(Boolean): Returns True if number is armstrong else false\"\"\"\n",
    "    \n",
    "    #keeping number in a dummy variable\n",
    "    num = number\n",
    "    \n",
    "    #initializing reverse with 0\n",
    "    rev = 0\n",
    "    \n",
    "    #looping through the digits of the number\n",
    "    while(number!=0):\n",
    "        rev = rev*10 + (number%10)  #extracting digits and appending\n",
    "        \n",
    "        number = number//10 #performing integer division\n",
    "        \n",
    "    \n",
    "    #checking if reverse and number are same\n",
    "    if (rev == num):\n",
    "        return True\n",
    "    else:\n",
    "        return False"
   ]
  },
  {
   "cell_type": "code",
   "execution_count": 25,
   "metadata": {},
   "outputs": [
    {
     "name": "stdout",
     "output_type": "stream",
     "text": [
      "\n",
      "Enter number to be checked: 125\n",
      "125 is not an Armstong number\n",
      "\n",
      "Enter number to be checked: 717\n",
      "717 is an Armstong number\n",
      "\n",
      "Enter number to be checked: 49\n",
      "49 is not an Armstong number\n",
      "\n",
      "Enter number to be checked: 202\n",
      "202 is an Armstong number\n",
      "\n",
      "Enter number to be checked: 300000003\n",
      "300000003 is an Armstong number\n"
     ]
    }
   ],
   "source": [
    "for i in range(1,6):\n",
    "    \n",
    "    #take number from user\n",
    "    n = int(input(\"\\nEnter number to be checked: \"))\n",
    "    \n",
    "    #call function\n",
    "    a = check_Armstrong(n)\n",
    "    \n",
    "    #print\n",
    "    if (a):\n",
    "        print(\"{} is an Armstong number\".format(n))\n",
    "    else:\n",
    "        print(\"{} is not an Armstong number\".format(n))"
   ]
  },
  {
   "cell_type": "markdown",
   "metadata": {},
   "source": [
    "## Q5 Write a Python Program to Find Armstrong Number in an Interval?"
   ]
  },
  {
   "cell_type": "code",
   "execution_count": 27,
   "metadata": {},
   "outputs": [
    {
     "name": "stdout",
     "output_type": "stream",
     "text": [
      "101\n",
      "111\n",
      "121\n",
      "131\n",
      "141\n",
      "151\n",
      "161\n",
      "171\n",
      "181\n",
      "191\n",
      "202\n",
      "212\n",
      "222\n",
      "232\n",
      "242\n",
      "252\n",
      "262\n",
      "272\n",
      "282\n",
      "292\n",
      "303\n",
      "313\n",
      "323\n",
      "333\n",
      "343\n",
      "353\n",
      "363\n",
      "373\n",
      "383\n",
      "393\n",
      "404\n",
      "414\n",
      "424\n",
      "434\n",
      "444\n",
      "454\n",
      "464\n",
      "474\n",
      "484\n",
      "494\n",
      "505\n",
      "515\n",
      "525\n",
      "535\n",
      "545\n",
      "555\n",
      "565\n",
      "575\n",
      "585\n",
      "595\n",
      "606\n",
      "616\n",
      "626\n",
      "636\n",
      "646\n",
      "656\n",
      "666\n",
      "676\n",
      "686\n",
      "696\n",
      "707\n",
      "717\n",
      "727\n",
      "737\n",
      "747\n",
      "757\n",
      "767\n",
      "777\n",
      "787\n",
      "797\n",
      "808\n",
      "818\n",
      "828\n",
      "838\n",
      "848\n",
      "858\n",
      "868\n",
      "878\n",
      "888\n",
      "898\n",
      "909\n",
      "919\n",
      "929\n",
      "939\n",
      "949\n",
      "959\n",
      "969\n",
      "979\n",
      "989\n",
      "999\n",
      "1001\n",
      "1111\n",
      "1221\n",
      "1331\n",
      "1441\n",
      "1551\n",
      "1661\n",
      "1771\n",
      "1881\n",
      "1991\n"
     ]
    }
   ],
   "source": [
    "#take interval, starting and ending\n",
    "\n",
    "def armsInterval(start,end):\n",
    "    \"\"\"Prints armstrong values from a given interval \n",
    "    :param start(int): starting of interval\n",
    "    :param end(int): ending of interval\n",
    "    :return: \"\"\"\n",
    "    \n",
    "    #looping the interval\n",
    "    for i in range(start,end+1):\n",
    "        \n",
    "        #using our previous built function\n",
    "        if (check_Armstrong(i)):\n",
    "            print(i)\n",
    "            \n",
    "#checking function\n",
    "armsInterval(100,2000)"
   ]
  },
  {
   "cell_type": "markdown",
   "metadata": {},
   "source": [
    "## Q6 Write a Python Program to Find the Sum of Natural Numbers?"
   ]
  },
  {
   "cell_type": "code",
   "execution_count": 28,
   "metadata": {},
   "outputs": [
    {
     "name": "stdout",
     "output_type": "stream",
     "text": [
      "Enter limit: 100\n",
      "\n",
      "The sum of first 100 natural numbers is 5050\n"
     ]
    }
   ],
   "source": [
    "def sumNatural(limit):\n",
    "    \"\"\"Takes limits and returns sum of natural number from 0 to limit given\n",
    "    :param limit(int): limit till which sum is to be calculated\n",
    "    :return sum(int): sum of first n(limit) natural numbers\"\"\"\n",
    "    \n",
    "    #initialize variable\n",
    "    sums = 0\n",
    "    \n",
    "    #loop through\n",
    "    for i in range(0,limit+1):\n",
    "        sums = sums + i\n",
    "        \n",
    "    #return sum    \n",
    "    return sums\n",
    "\n",
    "#take values from user\n",
    "n = int(input(\"Enter limit: \"))\n",
    "\n",
    "#calling function\n",
    "s = sumNatural(n)\n",
    "\n",
    "#print\n",
    "print(\"\\nThe sum of first {} natural numbers is {}\".format(n,s))"
   ]
  }
 ],
 "metadata": {
  "kernelspec": {
   "display_name": "Python 3",
   "language": "python",
   "name": "python3"
  },
  "language_info": {
   "codemirror_mode": {
    "name": "ipython",
    "version": 3
   },
   "file_extension": ".py",
   "mimetype": "text/x-python",
   "name": "python",
   "nbconvert_exporter": "python",
   "pygments_lexer": "ipython3",
   "version": "3.7.3"
  }
 },
 "nbformat": 4,
 "nbformat_minor": 2
}
