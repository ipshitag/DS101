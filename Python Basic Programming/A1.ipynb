{
 "cells": [
  {
   "cell_type": "markdown",
   "metadata": {},
   "source": [
    "# Python Basic Programming Assignment"
   ]
  },
  {
   "cell_type": "markdown",
   "metadata": {},
   "source": [
    "## Q1 Write a Python program to print &quot;Hello Python&quot;?"
   ]
  },
  {
   "cell_type": "code",
   "execution_count": 1,
   "metadata": {},
   "outputs": [
    {
     "name": "stdout",
     "output_type": "stream",
     "text": [
      "Hello Python\n"
     ]
    }
   ],
   "source": [
    "print(\"Hello Python\")"
   ]
  },
  {
   "cell_type": "markdown",
   "metadata": {},
   "source": [
    "## Q2 Write a Python program to do arithmetical operations addition and division?"
   ]
  },
  {
   "cell_type": "code",
   "execution_count": 4,
   "metadata": {},
   "outputs": [
    {
     "name": "stdout",
     "output_type": "stream",
     "text": [
      "Enter first number: 10\n",
      "Enter second number: 20\n",
      "\n",
      "On adding 10 and 20: 30\n",
      "\n",
      "On dividing 10 and 20: 0.5\n"
     ]
    }
   ],
   "source": [
    "#defining function\n",
    "def add_divide(a,b):\n",
    "    \"\"\"A function that takes two inputs and returns a+b and a/b\n",
    "    :param a(int): first value\n",
    "    :param b(int): second value\n",
    "    :return a+b(int): added value\n",
    "    :return a/b(numeric): divided value\"\"\"\n",
    "    \n",
    "    #returning values\n",
    "    return(a+b,a/b)\n",
    "\n",
    "#accepting values from user\n",
    "x = int(input(\"Enter first number: \"))\n",
    "y = int(input(\"Enter second number: \"))\n",
    "\n",
    "#calling function\n",
    "add,divide = add_divide(x,y)\n",
    "\n",
    "#printing results\n",
    "print(\"\\nOn adding {} and {}: {}\".format(x,y,add))\n",
    "print(\"\\nOn dividing {} and {}: {}\".format(x,y,divide))"
   ]
  },
  {
   "cell_type": "markdown",
   "metadata": {},
   "source": [
    "## Q3 Write a Python program to find the area of a triangle?"
   ]
  },
  {
   "cell_type": "code",
   "execution_count": 7,
   "metadata": {},
   "outputs": [
    {
     "name": "stdout",
     "output_type": "stream",
     "text": [
      "Enter Length: 40\n",
      "Enter Breadth: 100\n",
      "\n",
      "Area of a triangle with breadth 100.0, length 40.0 is: 2000.0\n"
     ]
    }
   ],
   "source": [
    "#defining function\n",
    "def area_triangle(length,breadth):\n",
    "    \"\"\"Accepts length and breadth of a triangle and returns the area based on the formula 1/2*length*breadth\n",
    "    :param length(numeric): length of the triangle in units\n",
    "    :param breadth(numeric): breadth of the triangle in units\n",
    "    :return area(numeric): area in units square\n",
    "    \"\"\"\n",
    "    \n",
    "    #returning value\n",
    "    return(0.5*length*breadth)\n",
    "\n",
    "#enter length\n",
    "l = float(input(\"Enter Length: \"))\n",
    "#enter breadth\n",
    "b = float(input(\"Enter Breadth: \"))\n",
    "\n",
    "#calling function\n",
    "a = area_triangle(l,b)\n",
    "\n",
    "#printing\n",
    "print(\"\\nArea of a triangle with breadth {}, length {} is: {}\".format(b,l,a))"
   ]
  },
  {
   "cell_type": "markdown",
   "metadata": {},
   "source": [
    "## Q4 Write a Python program to swap two variables?"
   ]
  },
  {
   "cell_type": "code",
   "execution_count": 10,
   "metadata": {},
   "outputs": [
    {
     "name": "stdout",
     "output_type": "stream",
     "text": [
      "Enter value of a: 40\n",
      "Enter value of b: 50\n",
      "\n",
      " Value of a: 40 | Value of b: 50\n",
      "\n",
      " Value of a: 50 | Value of b: 40\n"
     ]
    }
   ],
   "source": [
    "#get values\n",
    "a = int(input(\"Enter value of a: \"))\n",
    "b = int(input(\"Enter value of b: \"))\n",
    "\n",
    "#print existing values\n",
    "print(\"\\n Value of a: {} | Value of b: {}\".format(a,b))\n",
    "\n",
    "#swapping\n",
    "a,b = b,a\n",
    "\n",
    "#print values after swapping\n",
    "print(\"\\n Value of a: {} | Value of b: {}\".format(a,b))"
   ]
  },
  {
   "cell_type": "markdown",
   "metadata": {},
   "source": [
    "## Q5 Write a Python program to generate a random number?"
   ]
  },
  {
   "cell_type": "code",
   "execution_count": 11,
   "metadata": {},
   "outputs": [
    {
     "name": "stdout",
     "output_type": "stream",
     "text": [
      "Random number produced: 0.026343380459525556\n"
     ]
    }
   ],
   "source": [
    "#importing library that produces random value\n",
    "import random\n",
    "\n",
    "#applying seed, so that we can we reproduce the random number\n",
    "random.seed(420)\n",
    "\n",
    "#getting random value\n",
    "rnd_val = random.random()\n",
    "\n",
    "#printing the value\n",
    "print(\"Random number produced: {}\".format(rnd_val))"
   ]
  }
 ],
 "metadata": {
  "kernelspec": {
   "display_name": "Python 3",
   "language": "python",
   "name": "python3"
  },
  "language_info": {
   "codemirror_mode": {
    "name": "ipython",
    "version": 3
   },
   "file_extension": ".py",
   "mimetype": "text/x-python",
   "name": "python",
   "nbconvert_exporter": "python",
   "pygments_lexer": "ipython3",
   "version": "3.7.3"
  }
 },
 "nbformat": 4,
 "nbformat_minor": 2
}
