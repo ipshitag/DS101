{
 "cells": [
  {
   "cell_type": "markdown",
   "metadata": {},
   "source": [
    "# Python Basic Programming Assignment - 7"
   ]
  },
  {
   "cell_type": "markdown",
   "metadata": {},
   "source": [
    "## Q1 Write a Python Program to find sum of array?"
   ]
  },
  {
   "cell_type": "code",
   "execution_count": 8,
   "metadata": {},
   "outputs": [
    {
     "name": "stdout",
     "output_type": "stream",
     "text": [
      "Check if list is numeric\n",
      "10\n"
     ]
    }
   ],
   "source": [
    "def sum_array(arr):\n",
    "    \"\"\"Takes an array and prints the sum of the array\"\"\"\n",
    "    \n",
    "    #we also need to check whether the entries in the list are numeric or not\n",
    "    #for that, try and except blocks have been used\n",
    "    try:\n",
    "        s = sum(arr)\n",
    "        print(s)\n",
    "    except:\n",
    "        print(\"Check if list is numeric\")\n",
    "\n",
    "#inputting\n",
    "l = [1,2,'abc',4]\n",
    "m = [1,2,3,4]\n",
    "\n",
    "#checking the function\n",
    "sum_array(l) #should give message\n",
    "sum_array(m) #should print value"
   ]
  },
  {
   "cell_type": "markdown",
   "metadata": {},
   "source": [
    "## Q2 Write a Python Program to find largest element in an array?"
   ]
  },
  {
   "cell_type": "code",
   "execution_count": 11,
   "metadata": {},
   "outputs": [
    {
     "name": "stdout",
     "output_type": "stream",
     "text": [
      "Check if list is numeric\n",
      "4\n"
     ]
    }
   ],
   "source": [
    "def sum_array(arr):\n",
    "    \"\"\"Takes an array and prints the largest number of the array\"\"\"\n",
    "    \n",
    "    #we also need to check whether the entries in the list are numeric or not\n",
    "    #for that, try and except blocks have been used\n",
    "    try:\n",
    "        s = max(arr)\n",
    "        print(s)\n",
    "    except:\n",
    "        print(\"Check if list is numeric\")\n",
    "\n",
    "#inputting\n",
    "l = [1,2,'abc',4]\n",
    "m = [1,2,3,4]\n",
    "\n",
    "#checking the function\n",
    "sum_array(l) #should give message\n",
    "sum_array(m) #should print value"
   ]
  },
  {
   "cell_type": "markdown",
   "metadata": {},
   "source": [
    "## Q3 Write a Python Program for array rotation?"
   ]
  },
  {
   "cell_type": "code",
   "execution_count": 20,
   "metadata": {},
   "outputs": [
    {
     "name": "stdout",
     "output_type": "stream",
     "text": [
      "[4, 'abc', 2, 1]\n"
     ]
    }
   ],
   "source": [
    "def rev_array(arr):\n",
    "    \"\"\"Inputs an array and returns the reverse of it\"\"\"\n",
    "    \n",
    "    i = len(arr)-1\n",
    "    k = []\n",
    "    \n",
    "    for j in arr:\n",
    "        k.append(arr[i])\n",
    "        i-=1\n",
    "        \n",
    "    #return the value\n",
    "    return k\n",
    "    \n",
    "#inputting\n",
    "l = [1,2,'abc',4]\n",
    "\n",
    "#calling function\n",
    "rev = rev_array(l)\n",
    "\n",
    "#print the reversed list\n",
    "print(rev)"
   ]
  },
  {
   "cell_type": "markdown",
   "metadata": {},
   "source": [
    "## Q4 Write a Python Program to Split the array and add the first part to the end?"
   ]
  },
  {
   "cell_type": "code",
   "execution_count": 37,
   "metadata": {},
   "outputs": [
    {
     "name": "stdout",
     "output_type": "stream",
     "text": [
      "Check if list is numeric\n",
      "None\n",
      "[4, 6]\n"
     ]
    }
   ],
   "source": [
    "def split_sum(arr):\n",
    "    \"\"\"Takes an array and prints the largest number of the array\"\"\"\n",
    "    \n",
    "    #we also need to check whether the entries in the list are numeric or not\n",
    "    #for that, try and except blocks have been used\n",
    "    try:\n",
    "        #splitting from half\n",
    "        spl = int(len(arr)/2)\n",
    "        \n",
    "        #keeping in different lists\n",
    "        o = arr[spl:]\n",
    "        t = arr[:spl]\n",
    "        \n",
    "        #new list to keep total\n",
    "        total = []\n",
    "        \n",
    "        #adding\n",
    "        for i in range(spl):\n",
    "            total.append(o[i]+t[i])\n",
    "        \n",
    "        #returning\n",
    "        return total\n",
    "    except:\n",
    "        print(\"Check if list is numeric\")\n",
    "\n",
    "#inputting\n",
    "l = [1,2,'abc',4]\n",
    "m = [1,2,3,4]\n",
    "\n",
    "#checking the function\n",
    "l1 = split_sum(l) #should give message and print None\n",
    "print(l1)\n",
    "\n",
    "m1= split_sum(m) #should print value\n",
    "print(m1)"
   ]
  },
  {
   "cell_type": "markdown",
   "metadata": {},
   "source": [
    "## Q5 Write a Python Program to check if given array is Monotonic?"
   ]
  },
  {
   "cell_type": "code",
   "execution_count": 47,
   "metadata": {},
   "outputs": [
    {
     "name": "stdout",
     "output_type": "stream",
     "text": [
      "Check if list is numeric\n",
      "None\n",
      "True\n"
     ]
    }
   ],
   "source": [
    "def monotone(arr):\n",
    "    \"\"\"Takes an array and checks if the array is monotonic or not\"\"\"\n",
    "    \n",
    "    #we also need to check whether the entries in the list are numeric or not\n",
    "    #for that, try and except blocks have been used\n",
    "    try:\n",
    "        length = len(arr)-1\n",
    "        mono = all(arr[i] <= arr[i + 1] for i in range(len(arr) - 1)) or all(arr[i] >= arr[i + 1] for i in range(len(arr) - 1))\n",
    "        return mono\n",
    "        \n",
    "    except:\n",
    "        print(\"Check if list is numeric\")\n",
    "\n",
    "#inputting`\n",
    "l = [1,2,'abc',4]\n",
    "m = [1,2,3,4]\n",
    "\n",
    "#checking the function\n",
    "t = monotone(l) #should give message and print None\n",
    "print(t)\n",
    "                  \n",
    "f = monotone(m) #should print value\n",
    "print(f)"
   ]
  }
 ],
 "metadata": {
  "kernelspec": {
   "display_name": "Python 3",
   "language": "python",
   "name": "python3"
  },
  "language_info": {
   "codemirror_mode": {
    "name": "ipython",
    "version": 3
   },
   "file_extension": ".py",
   "mimetype": "text/x-python",
   "name": "python",
   "nbconvert_exporter": "python",
   "pygments_lexer": "ipython3",
   "version": "3.7.3"
  }
 },
 "nbformat": 4,
 "nbformat_minor": 2
}
