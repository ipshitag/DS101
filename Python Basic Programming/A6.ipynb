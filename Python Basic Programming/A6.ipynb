{
 "cells": [
  {
   "cell_type": "markdown",
   "metadata": {},
   "source": [
    "# Python Basic Programming Assignment - 6"
   ]
  },
  {
   "cell_type": "markdown",
   "metadata": {},
   "source": [
    "## Q1. Write a Python Program to Display Fibonacci Sequence Using Recursion?"
   ]
  },
  {
   "cell_type": "code",
   "execution_count": 1,
   "metadata": {},
   "outputs": [],
   "source": [
    "def fibo(n):\n",
    "    \"\"\"Takes number of terms and prints the fibonacci series until that\n",
    "    :param n(int): number of terms\n",
    "    :return f(list): list containing fibonacci series \"\"\"\n",
    "    \n",
    "    #checking\n",
    "    if n<=len(series) and n>0:\n",
    "        return series[n-1]\n",
    "    \n",
    "    else:\n",
    "        #recursing\n",
    "        f = fibo(n-1) + fibo(n-2)\n",
    "        \n",
    "        if n>len(series):\n",
    "            series.append(f)\n",
    "        \n",
    "        return f"
   ]
  },
  {
   "cell_type": "code",
   "execution_count": 2,
   "metadata": {},
   "outputs": [
    {
     "name": "stdout",
     "output_type": "stream",
     "text": [
      "Enter number of terms wanted: 5\n",
      "Fibonacci sequence:\n",
      " \n",
      "[0, 1, 1, 2, 3]\n"
     ]
    }
   ],
   "source": [
    "#initialize list\n",
    "series = [0,1]\n",
    "\n",
    "#take input from user\n",
    "nterms = int(input(\"Enter number of terms wanted: \"))\n",
    "\n",
    "#check for positiviti\n",
    "if nterms <= 0:\n",
    "    print(\"Please enter a positive number\")\n",
    "else:\n",
    "    print(\"Fibonacci sequence:\")\n",
    "    f = fibo(nterms) \n",
    "    print(\" \")\n",
    "    print(series) "
   ]
  },
  {
   "cell_type": "markdown",
   "metadata": {},
   "source": [
    "## Q2. Write a Python Program to Find Factorial of Number Using Recursion?"
   ]
  },
  {
   "cell_type": "code",
   "execution_count": 5,
   "metadata": {},
   "outputs": [],
   "source": [
    "def factorial(number):\n",
    "    \"\"\"Returns factorial of number, i.e. for number n, returns n*(n-1)*(n-2)*...*3*2*1\n",
    "    :param number(int): number whose factorial is to be given\n",
    "    :return n(int): factorial of number, through recursion\"\"\"\n",
    "    if number == 1:\n",
    "        return number\n",
    "    else:\n",
    "        return number * factorial(number-1)"
   ]
  },
  {
   "cell_type": "code",
   "execution_count": 6,
   "metadata": {},
   "outputs": [
    {
     "name": "stdout",
     "output_type": "stream",
     "text": [
      "Enter number of terms wanted: 7\n",
      "The factorial of  7  is:  5040\n"
     ]
    }
   ],
   "source": [
    "#take input from user\n",
    "num = int(input(\"Enter number of terms wanted: \"))    \n",
    "    \n",
    "# check if the number is negative\n",
    "if num < 0:\n",
    "    print(\"Enter Positive number\")\n",
    "elif num == 0:\n",
    "    print(\"The factorial of 0: 1\")\n",
    "else:\n",
    "    print(\"The factorial of \", num, \" is: \", factorial(num))"
   ]
  },
  {
   "cell_type": "markdown",
   "metadata": {},
   "source": [
    "## Q3 Write a Python Program to calculate your Body Mass Index?"
   ]
  },
  {
   "cell_type": "code",
   "execution_count": 8,
   "metadata": {},
   "outputs": [
    {
     "name": "stdout",
     "output_type": "stream",
     "text": [
      "Enter height, in metres: 1.55\n",
      "Enter weight in kilograms: 53\n",
      " \n",
      "\n",
      "The BMI of person with height 1.55m and weight 53.0kg is 22.06\n"
     ]
    }
   ],
   "source": [
    "def bmi(h,w):\n",
    "    \"\"\"Returns the bmi of a person, by taking the persons height, (in m) and weight (in kg)\n",
    "    :param h(numeric): height of a person in metres\n",
    "    :param w(numeric): weight of a person in kilograms\n",
    "    :return bmi(numeric): body mass index of the person\"\"\"\n",
    "    \n",
    "    #rounding off to two decimal places after calculation\n",
    "    b = round(w / (h * h), 2) \n",
    "    \n",
    "    return b\n",
    "\n",
    "#checking function\n",
    "height = float(input(\"Enter height, in metres: \"))\n",
    "weight = float(input(\"Enter weight in kilograms: \"))\n",
    "print(\" \")\n",
    "\n",
    "#calling function\n",
    "b = bmi(height,weight)\n",
    "\n",
    "#print\n",
    "print(\"\\nThe BMI of person with height {}m and weight {}kg is {}\".format(height,weight,b))"
   ]
  },
  {
   "cell_type": "markdown",
   "metadata": {},
   "source": [
    "## Q4 Write a Python Program to calculate the natural logarithm of any number?"
   ]
  },
  {
   "cell_type": "code",
   "execution_count": 9,
   "metadata": {},
   "outputs": [
    {
     "name": "stdout",
     "output_type": "stream",
     "text": [
      "Enter number: 6.74\n",
      "Natural log: 1.9080599249242156\n"
     ]
    }
   ],
   "source": [
    "#importing library needed for calculating natural log\n",
    "import math\n",
    "\n",
    "#the log function of math library is used for calculation of natural logs\n",
    "\n",
    "n = float(input(\"Enter number: \"))\n",
    "print(\"Natural log: {}\".format(math.log(n)))"
   ]
  },
  {
   "cell_type": "markdown",
   "metadata": {},
   "source": [
    "## Q5. Write a Python Program for cube sum of first n natural numbers?"
   ]
  },
  {
   "cell_type": "code",
   "execution_count": 12,
   "metadata": {},
   "outputs": [
    {
     "name": "stdout",
     "output_type": "stream",
     "text": [
      "Enter Limit: 8\n",
      " \n",
      "Number: 1  |  Natural log: 0.0\n",
      "Number: 2  |  Natural log: 0.6931471805599453\n",
      "Number: 3  |  Natural log: 1.0986122886681098\n",
      "Number: 4  |  Natural log: 1.3862943611198906\n",
      "Number: 5  |  Natural log: 1.6094379124341003\n",
      "Number: 6  |  Natural log: 1.791759469228055\n",
      "Number: 7  |  Natural log: 1.9459101490553132\n",
      "Number: 8  |  Natural log: 2.0794415416798357\n"
     ]
    }
   ],
   "source": [
    "#take the limit of the series\n",
    "n = int(input(\"Enter Limit: \"))\n",
    "print(\" \")\n",
    "\n",
    "#loop through\n",
    "for i in range(1,n+1):\n",
    "    print(\"Number: {}  |  Natural log: {}\".format(i,math.log(i)))"
   ]
  }
 ],
 "metadata": {
  "kernelspec": {
   "display_name": "Python 3",
   "language": "python",
   "name": "python3"
  },
  "language_info": {
   "codemirror_mode": {
    "name": "ipython",
    "version": 3
   },
   "file_extension": ".py",
   "mimetype": "text/x-python",
   "name": "python",
   "nbconvert_exporter": "python",
   "pygments_lexer": "ipython3",
   "version": "3.7.3"
  }
 },
 "nbformat": 4,
 "nbformat_minor": 2
}
